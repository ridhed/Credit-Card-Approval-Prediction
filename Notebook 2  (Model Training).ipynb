{
 "cells": [
  {
   "cell_type": "markdown",
   "id": "9926312b",
   "metadata": {},
   "source": [
    "# <center> 'Credit Card Approval Prediction' </center>"
   ]
  },
  {
   "cell_type": "markdown",
   "id": "6ae30079",
   "metadata": {},
   "source": [
    "## <center><u> Index - Notebook 2 </u></center>\n",
    "\n",
    "#### 1. Scaling the Data using StandardScaler\n",
    "\n",
    "#### 2. Model Training\n",
    "\n",
    "    1. Logistic Regression\n",
    "\n",
    "        1.1 Model Training\n",
    "        1.2 Model Prediction and Accuracy\n",
    "        1.3 Confusion Matrix\n",
    "        1.4 Classification Report\n",
    "        1.5 ROC Curve (Receiver Operating Characteristic)\n",
    "        1.6 Cross-Validation\n",
    "        1.7 Hyperparameter Tuning: GridSearchCV\n",
    "        1.8 Model with Best Parameters\n",
    "\n",
    "    2. Decision Tree Classifier\n",
    "\n",
    "        2.1 Model Training\n",
    "        2.2 Model Prediction and Accuracy\n",
    "        2.3 Confusion Matrix\n",
    "        2.4 Classification Report\n",
    "        2.5 ROC Curve (Receiver Operating Characteristic)\n",
    "        2.6 Cross-Validation\n",
    "        2.7 Hyperparameter Tuning: GridSearchCV\n",
    "        2.8 Model with Best Parameters\n",
    "\n",
    "    3. Random Forest Classifier\n",
    "\n",
    "        3.1 Model Training\n",
    "        3.2 Model Prediction and Accuracy\n",
    "        3.3 Confusion Matrix\n",
    "        3.4 Classification Report\n",
    "        3.5 ROC Curve (Receiver Operating Characteristic)\n",
    "        3.6 Cross-Validation\n",
    "        3.7 Hyperparameter Tuning: GridSearchCV\n",
    "        3.8 Model with Best Parameters\n",
    "\n",
    "    4. Support Vector Machines (SVM)\n",
    "\n",
    "        4.1 Model Training\n",
    "        4.2 Model Prediction and Accuracy\n",
    "        4.3 Confusion Matrix\n",
    "        4.4 Classification Report\n",
    "        4.5 ROC Curve (Receiver Operating Characteristic)\n",
    "        4.6 Cross-Validation\n",
    "        4.7 Hyperparameter Tuning: GridSearchCV\n",
    "        4.8 Model with Best Parameters\n",
    "\n",
    "     5. K-Nearest Neighbors (KNN)\n",
    "\n",
    "        5.1 Model Training\n",
    "        5.2 Model Prediction and Accuracy\n",
    "        5.3 Confusion Matrix\n",
    "        5.4 Classification Report\n",
    "        5.5 ROC Curve (Receiver Operating Characteristic)\n",
    "        5.6 Cross-Validation\n",
    "        5.7 Hyperparameter Tuning: GridSearchCV\n",
    "        5.8 Model with Best Parameters\n",
    "\n",
    "    6. Gradient Boosting (XGBoost)\n",
    "\n",
    "        6.1 Model Training\n",
    "        6.2 Model Prediction and Accuracy\n",
    "        6.3 Confusion Matrix\n",
    "        6.4 Classification Report\n",
    "        6.5 ROC Curve (Receiver Operating Characteristic)\n",
    "        6.6 Cross-Validation\n",
    "        6.7 Hyperparameter Tuning: GridSearchCV\n",
    "        6.8 Model with Best Parameters\n",
    "\n",
    "#### 3. Model Selection\n",
    "\n",
    "        Comparing on the basis of Testing Accuracy, Mean Cross-Validation Accuracy and AUC (Area Under the ROC Curve)\n",
    "\n",
    "#### 4. Feature Importance on Random Forest Model\n",
    "        \n",
    "        Using Entropy "
   ]
  },
  {
   "cell_type": "code",
   "execution_count": 1,
   "id": "74e4eb1c",
   "metadata": {},
   "outputs": [],
   "source": [
    "import pandas as pd  # Data manipulation using DataFrames\n",
    "import numpy as np  # Numerical operations\n",
    "from sklearn.model_selection import train_test_split  # Splitting data into train and test sets\n",
    "from sklearn.preprocessing import StandardScaler  # Standardizing numerical features\n",
    "# Data visualization\n",
    "import seaborn as sns \n",
    "import matplotlib.pyplot as plt  \n",
    "# Machine Learning Models \n",
    "from sklearn.linear_model import LogisticRegression  # Logistic Regression\n",
    "from sklearn.tree import DecisionTreeClassifier  # Decision Tree\n",
    "from sklearn.ensemble import RandomForestClassifier  # Random Forest\n",
    "from sklearn.svm import SVC  # Support Vector Machine\n",
    "from sklearn.neighbors import KNeighborsClassifier  # K-Nearest Neighbors\n",
    "import xgboost as xgb  # Gradient Boosting\n",
    "from sklearn.model_selection import cross_val_score, KFold  # Cross-Validation\n",
    "# Model Evaluation Metrics\n",
    "from sklearn.metrics import accuracy_score, classification_report, confusion_matrix  # Evaluation metrics\n",
    "from sklearn.model_selection import GridSearchCV  # Grid search for hyperparameter tuning\n",
    "from sklearn.metrics import roc_curve, auc  # Receiver Operating Characteristic (ROC) curve\n",
    "# Suppress all warnings\n",
    "import warnings\n",
    "warnings.filterwarnings(\"ignore\")\n",
    "from imblearn.over_sampling import SMOTE # Handling Imbalanced Classes"
   ]
  },
  {
   "cell_type": "code",
   "execution_count": 2,
   "id": "bd749d0c",
   "metadata": {},
   "outputs": [],
   "source": [
    "# Reading the cleaned credit data from a CSV file saved in the notebook 1\n",
    "Credit_data_cleaned = pd.read_csv('Credit_data_cleaned_ML.csv')"
   ]
  },
  {
   "cell_type": "code",
   "execution_count": 3,
   "id": "89a04b63",
   "metadata": {
    "scrolled": false
   },
   "outputs": [
    {
     "data": {
      "text/plain": [
       "Index(['Ind_ID', 'Gender', 'Car_Owner', 'Propert_Owner', 'Annual_income',\n",
       "       'Type_Income', 'Education', 'Marital_status', 'Housing_type', 'Label',\n",
       "       'Age', 'Employed_Years', 'Age_Category'],\n",
       "      dtype='object')"
      ]
     },
     "execution_count": 3,
     "metadata": {},
     "output_type": "execute_result"
    }
   ],
   "source": [
    "Credit_data_cleaned.columns"
   ]
  },
  {
   "cell_type": "markdown",
   "id": "d86efa0e",
   "metadata": {},
   "source": [
    "# 1.  Scaling the Data \n",
    "Using StandardScaler"
   ]
  },
  {
   "cell_type": "code",
   "execution_count": 4,
   "id": "9cc266f5",
   "metadata": {},
   "outputs": [],
   "source": [
    "# Defining features for model training\n",
    "features = ['Employed_Years', 'Annual_income', 'Age', 'Type_Income', 'Education', 'Marital_status']\n",
    "X = Credit_data_cleaned[features]\n",
    "y = Credit_data_cleaned['Label']\n",
    "\n",
    "# Performing a train-test split\n",
    "X_train, X_test, y_train, y_test = train_test_split(X, y, test_size=0.2, random_state=42)\n",
    "\n",
    "# Scaling the data using StandardScaler\n",
    "scaler = StandardScaler()\n",
    "X_train_scaled = scaler.fit_transform(X_train)\n",
    "X_test_scaled = scaler.transform(X_test)"
   ]
  },
  {
   "cell_type": "markdown",
   "id": "213a41a3",
   "metadata": {},
   "source": [
    "# 2. Model Training"
   ]
  },
  {
   "cell_type": "markdown",
   "id": "71edb6da",
   "metadata": {},
   "source": [
    "## 1. Logistic Regression"
   ]
  },
  {
   "cell_type": "markdown",
   "id": "2f758f6e",
   "metadata": {},
   "source": [
    "### 1.1 Model training"
   ]
  },
  {
   "cell_type": "code",
   "execution_count": 5,
   "id": "97580a7d",
   "metadata": {
    "scrolled": true
   },
   "outputs": [
    {
     "data": {
      "text/plain": [
       "LogisticRegression(random_state=42)"
      ]
     },
     "execution_count": 5,
     "metadata": {},
     "output_type": "execute_result"
    }
   ],
   "source": [
    "# Creating and fitting the Logistic Regression model \n",
    "lr_model = LogisticRegression(random_state=42)\n",
    "lr_model.fit(X_train_scaled, y_train)"
   ]
  },
  {
   "cell_type": "markdown",
   "id": "0144ec8f",
   "metadata": {},
   "source": [
    "### 1.2 Model Prediction and Accuracy"
   ]
  },
  {
   "cell_type": "code",
   "execution_count": 6,
   "id": "c50dafbf",
   "metadata": {},
   "outputs": [
    {
     "name": "stdout",
     "output_type": "stream",
     "text": [
      "Calculating training accuracy: 0.91\n",
      "Calculating testing accuracy: 0.87\n"
     ]
    }
   ],
   "source": [
    "# Making predictions on the training set\n",
    "y_train_pred_lr = lr_model.predict(X_train_scaled)\n",
    "\n",
    "# Calculating training accuracy\n",
    "train_accuracy = accuracy_score(y_train, y_train_pred_lr)\n",
    "print(f\"Calculating training accuracy: {train_accuracy:.2f}\")\n",
    "\n",
    "# Making predictions on the test set\n",
    "y_test_pred_lr = lr_model.predict(X_test_scaled)\n",
    "\n",
    "# Calculating testing accuracy\n",
    "test_accuracy = accuracy_score(y_test, y_test_pred_lr)\n",
    "print(f\"Calculating testing accuracy: {test_accuracy:.2f}\")"
   ]
  },
  {
   "cell_type": "markdown",
   "id": "4d9a6c05",
   "metadata": {},
   "source": [
    "### 1.3 Confusion Matrix"
   ]
  },
  {
   "cell_type": "code",
   "execution_count": 7,
   "id": "ea38ca2e",
   "metadata": {},
   "outputs": [
    {
     "data": {
      "text/plain": [
       "<Figure size 576x432 with 0 Axes>"
      ]
     },
     "metadata": {},
     "output_type": "display_data"
    },
    {
     "data": {
      "image/png": "[encoded data removed]",
      "text/plain": [
       "<Figure size 576x432 with 2 Axes>"
      ]
     },
     "metadata": {
      "needs_background": "light"
     },
     "output_type": "display_data"
    }
   ],
   "source": [
    "# Calculating the confusion matrix \n",
    "conf_matrix_lr = confusion_matrix(y_test, y_test_pred_lr)\n",
    "plt.figure(figsize=(8, 6))\n",
    "\n",
    "# Visualizing the confusion matrix with heatmap \n",
    "plt.figure(figsize=(8, 6))\n",
    "sns.heatmap(conf_matrix_lr, annot=True, fmt=\"d\", cmap=\"Blues\", annot_kws={\"size\": 16})\n",
    "\n",
    "# Adding title and labels\n",
    "plt.title(\"Confusion Matrix\")\n",
    "plt.xlabel(\"Predicted\")\n",
    "plt.ylabel(\"Actual\")\n",
    "\n",
    "# Displaying the heatmap\n",
    "plt.show()"
   ]
  },
  {
   "cell_type": "markdown",
   "id": "0a021301",
   "metadata": {},
   "source": [
    "### 1.4 Classification Report"
   ]
  },
  {
   "cell_type": "code",
   "execution_count": 8,
   "id": "910a72b3",
   "metadata": {},
   "outputs": [
    {
     "name": "stdout",
     "output_type": "stream",
     "text": [
      "              precision    recall  f1-score   support\n",
      "\n",
      "           0       0.87      1.00      0.93       183\n",
      "           1       0.00      0.00      0.00        27\n",
      "\n",
      "    accuracy                           0.87       210\n",
      "   macro avg       0.44      0.50      0.47       210\n",
      "weighted avg       0.76      0.87      0.81       210\n",
      "\n"
     ]
    }
   ],
   "source": [
    "# Evaluating the performance of the model\n",
    "class_report_lr = classification_report(y_test, y_test_pred_lr)\n",
    "print(class_report_lr)"
   ]
  },
  {
   "cell_type": "markdown",
   "id": "9e5aa28e",
   "metadata": {},
   "source": [
    "### 1.5 Roc Cruve (Receiver Operating Characteristic)"
   ]
  },
  {
   "cell_type": "code",
   "execution_count": 9,
   "id": "755d3fce",
   "metadata": {},
   "outputs": [
    {
     "data": {
      "image/png": "[encoded data removed]",
      "text/plain": [
       "<Figure size 576x432 with 1 Axes>"
      ]
     },
     "metadata": {
      "needs_background": "light"
     },
     "output_type": "display_data"
    }
   ],
   "source": [
    "# Calculating the false positive rate (fpr), true positive rate (tpr), and thresholds\n",
    "fpr, tpr, thresholds = roc_curve(y_test, lr_model.predict_proba(X_test_scaled)[:, 1])\n",
    "\n",
    "# Calculating AUC (Area Under the ROC Curve) \n",
    "roc_auc_lr = auc(fpr, tpr)\n",
    "\n",
    "# Plotting the ROC Curve \n",
    "plt.figure(figsize=(8, 6))\n",
    "plt.plot(fpr, tpr, label=f'AUC = {roc_auc_lr:.2f}')\n",
    "plt.plot([0, 1], [0, 1], 'k--')\n",
    "plt.title('ROC Curve')\n",
    "plt.xlabel('False Positive Rate')\n",
    "plt.ylabel('True Positive Rate')\n",
    "plt.legend()\n",
    "plt.show()"
   ]
  },
  {
   "cell_type": "markdown",
   "id": "602ec12d",
   "metadata": {},
   "source": [
    "### 1.6 Cross Validation "
   ]
  },
  {
   "cell_type": "code",
   "execution_count": 10,
   "id": "72b7996f",
   "metadata": {},
   "outputs": [
    {
     "name": "stdout",
     "output_type": "stream",
     "text": [
      "Cross-Validation Accuracy (LR): [0.91071429 0.9047619  0.89221557 0.92215569 0.91616766]\n",
      "Mean Cross-Validation Accuracy (LR): 0.91\n"
     ]
    }
   ],
   "source": [
    "# Creating a cross-validation object \n",
    "random_seed = 42\n",
    "kf = KFold(n_splits=5, shuffle=True, random_state=random_seed)\n",
    "\n",
    "# Performing cross-validation for Logistic Regression model\n",
    "cross_val_accuracy_lr = cross_val_score(lr_model, X_train_scaled, y_train, cv=kf, scoring='accuracy')\n",
    "print(f\"Cross-Validation Accuracy (LR): {cross_val_accuracy_lr}\")\n",
    "\n",
    "# Calculating the mean cross-validation accuracy for Logistic Regression\n",
    "print(f\"Mean Cross-Validation Accuracy (LR): {np.mean(cross_val_accuracy_lr):.2f}\")"
   ]
  },
  {
   "cell_type": "markdown",
   "id": "9a46990d",
   "metadata": {},
   "source": [
    "### 1.7  Hyperparameter Tuning: GridSearchCV"
   ]
  },
  {
   "cell_type": "code",
   "execution_count": 11,
   "id": "3d7e0a76",
   "metadata": {},
   "outputs": [
    {
     "name": "stdout",
     "output_type": "stream",
     "text": [
      "Best Parameters (Logistic Regression): {'C': 0.001, 'max_iter': 100}\n"
     ]
    }
   ],
   "source": [
    "# Setting up the parameter grid for grid search\n",
    "param_grid = {\n",
    "    'C': [0.001, 0.01, 0.1, 1, 10, 100],  # Adjusting the regularization parameter\n",
    "    'max_iter': [100, 200, 300],  # Setting the maximum number of iterations\n",
    "}\n",
    "\n",
    "# Setting up GridSearchCV for logistic regression\n",
    "grid_search_lr = GridSearchCV(lr_model, param_grid, cv=5, scoring='roc_auc', n_jobs=-1)\n",
    "\n",
    "# Fitting the model with the training data\n",
    "grid_search_lr.fit(X_train_scaled, y_train)\n",
    "\n",
    "# Retrieving the best parameters from the grid search\n",
    "best_params_lr = grid_search_lr.best_params_\n",
    "print(\"Best Parameters (Logistic Regression):\", best_params_lr)"
   ]
  },
  {
   "cell_type": "markdown",
   "id": "7da7ad8c",
   "metadata": {},
   "source": [
    "### 1.8 Model with Best Parameters"
   ]
  },
  {
   "cell_type": "code",
   "execution_count": 12,
   "id": "d853464a",
   "metadata": {},
   "outputs": [
    {
     "name": "stdout",
     "output_type": "stream",
     "text": [
      "Accuracy (LR): 0.87\n"
     ]
    }
   ],
   "source": [
    "# Defining the best hyperparameters for Logistic Regression\n",
    "best_params_lr = {'C': 0.001, 'max_iter': 100}\n",
    "\n",
    "# Creating the Logistic Regression model with the best hyperparameters\n",
    "best_lr_model = LogisticRegression(**best_params_lr, random_state=42)\n",
    "best_lr_model.fit(X_train_scaled, y_train)\n",
    "y_pred_lr = best_lr_model.predict(X_test_scaled)\n",
    "\n",
    "# Calculating the accuracy of the Logistic Regression model\n",
    "accuracy_lr = accuracy_score(y_test, y_pred_lr)\n",
    "print(f\"Accuracy (LR): {accuracy_lr:.2f}\")"
   ]
  },
  {
   "cell_type": "markdown",
   "id": "f8365500",
   "metadata": {},
   "source": [
    "## 2. Decision Tree Classifier"
   ]
  },
  {
   "cell_type": "markdown",
   "id": "88fddb05",
   "metadata": {},
   "source": [
    "- In decision tree models, normalization is not necessary. Decision trees are not sensitive to the scale of the features."
   ]
  },
  {
   "cell_type": "markdown",
   "id": "9c8fd708",
   "metadata": {},
   "source": [
    "### 2.1 Model training"
   ]
  },
  {
   "cell_type": "code",
   "execution_count": 13,
   "id": "d7465f01",
   "metadata": {},
   "outputs": [
    {
     "data": {
      "text/plain": [
       "DecisionTreeClassifier(random_state=42)"
      ]
     },
     "execution_count": 13,
     "metadata": {},
     "output_type": "execute_result"
    }
   ],
   "source": [
    "# Creating and fitting the Decision Tree model\n",
    "dt_model = DecisionTreeClassifier(random_state=42)\n",
    "dt_model.fit(X_train, y_train)"
   ]
  },
  {
   "cell_type": "markdown",
   "id": "63046da5",
   "metadata": {},
   "source": [
    "### 2.2 Model Prediction and Accuracy"
   ]
  },
  {
   "cell_type": "code",
   "execution_count": 14,
   "id": "8189adc5",
   "metadata": {
    "scrolled": true
   },
   "outputs": [
    {
     "name": "stdout",
     "output_type": "stream",
     "text": [
      "Accuracy: 0.84\n"
     ]
    }
   ],
   "source": [
    "# Making predictions on the training set\n",
    "y_pred_dt = dt_model.predict(X_test)\n",
    "\n",
    "# Calculating testing accuracy\n",
    "accuracy_dt = accuracy_score(y_test, y_pred_dt)\n",
    "print(f\"Accuracy: {accuracy_dt:.2f}\")"
   ]
  },
  {
   "cell_type": "markdown",
   "id": "d046a4a0",
   "metadata": {},
   "source": [
    "### 2.3 Confusion Matrix"
   ]
  },
  {
   "cell_type": "code",
   "execution_count": 15,
   "id": "5efe2032",
   "metadata": {},
   "outputs": [
    {
     "data": {
      "image/png": "[encoded data removed]",
      "text/plain": [
       "<Figure size 576x432 with 2 Axes>"
      ]
     },
     "metadata": {
      "needs_background": "light"
     },
     "output_type": "display_data"
    }
   ],
   "source": [
    "# Calculating the confusion matrix \n",
    "conf_matrix_dt = confusion_matrix(y_test, y_pred_dt)\n",
    "plt.figure(figsize=(8, 6))\n",
    "\n",
    "# Visualizing the confusion matrix with heatmap \n",
    "sns.heatmap(conf_matrix_dt, annot=True, fmt=\"d\", cmap=\"Blues\", annot_kws={\"size\": 16})\n",
    "\n",
    "# Adding title and labels\n",
    "plt.title(\"Confusion Matrix\")\n",
    "plt.xlabel(\"Predicted\")\n",
    "plt.ylabel(\"Actual\")\n",
    "\n",
    "# Displaying the heatmap\n",
    "plt.show()"
   ]
  },
  {
   "cell_type": "markdown",
   "id": "06ddb82c",
   "metadata": {},
   "source": [
    "### 2.4 Classification Report"
   ]
  },
  {
   "cell_type": "code",
   "execution_count": 16,
   "id": "77eeab52",
   "metadata": {},
   "outputs": [
    {
     "name": "stdout",
     "output_type": "stream",
     "text": [
      "              precision    recall  f1-score   support\n",
      "\n",
      "           0       0.91      0.91      0.91       183\n",
      "           1       0.39      0.41      0.40        27\n",
      "\n",
      "    accuracy                           0.84       210\n",
      "   macro avg       0.65      0.66      0.65       210\n",
      "weighted avg       0.85      0.84      0.84       210\n",
      "\n"
     ]
    }
   ],
   "source": [
    "# Evaluating the performance of the model\n",
    "class_report_dt = classification_report(y_test, y_pred_dt)\n",
    "print(class_report_dt)"
   ]
  },
  {
   "cell_type": "markdown",
   "id": "cb1c7956",
   "metadata": {},
   "source": [
    "### 2.5 Roc Cruve (Receiver Operating Characteristic)"
   ]
  },
  {
   "cell_type": "code",
   "execution_count": 17,
   "id": "c311989b",
   "metadata": {},
   "outputs": [
    {
     "data": {
      "image/png": "[encoded data removed]",
      "text/plain": [
       "<Figure size 576x432 with 1 Axes>"
      ]
     },
     "metadata": {
      "needs_background": "light"
     },
     "output_type": "display_data"
    }
   ],
   "source": [
    "# Calculating the false positive rate (fpr), true positive rate (tpr), and thresholds\n",
    "fpr, tpr, thresholds = roc_curve(y_test, dt_model.predict_proba(X_test)[:, 1])\n",
    "\n",
    "# Calculating AUC (Area Under the ROC Curve) \n",
    "roc_auc_dt = auc(fpr, tpr)\n",
    "\n",
    "# Plotting the ROC Curve \n",
    "plt.figure(figsize=(8, 6))\n",
    "plt.plot(fpr, tpr, label=f'AUC = {roc_auc_dt:.2f}')\n",
    "plt.plot([0, 1], [0, 1], 'k--')\n",
    "plt.title('ROC Curve')\n",
    "plt.xlabel('False Positive Rate')\n",
    "plt.ylabel('True Positive Rate')\n",
    "plt.legend()\n",
    "plt.show()"
   ]
  },
  {
   "cell_type": "markdown",
   "id": "a07a379c",
   "metadata": {},
   "source": [
    "### 2.6 Cross Validation "
   ]
  },
  {
   "cell_type": "code",
   "execution_count": 18,
   "id": "804ad522",
   "metadata": {},
   "outputs": [
    {
     "name": "stdout",
     "output_type": "stream",
     "text": [
      "Cross-Validation Accuracy (DT): [0.86904762 0.88095238 0.8502994  0.8742515  0.92814371]\n",
      "Mean Cross-Validation Accuracy (DT): 0.88\n"
     ]
    }
   ],
   "source": [
    "# Creating a cross-validation object \n",
    "random_seed = 42\n",
    "kf = KFold(n_splits=5, shuffle=True, random_state=random_seed)\n",
    "\n",
    "# Performing cross-validation for Decision Tree model\n",
    "cross_val_accuracy_dt = cross_val_score(dt_model, X_train, y_train, cv=kf, scoring='accuracy')\n",
    "print(f\"Cross-Validation Accuracy (DT): {cross_val_accuracy_dt}\")\n",
    "\n",
    "# Calculating the mean cross-validation accuracy for Decision Tree model\n",
    "print(f\"Mean Cross-Validation Accuracy (DT): {np.mean(cross_val_accuracy_dt):.2f}\")"
   ]
  },
  {
   "cell_type": "markdown",
   "id": "3406bf4c",
   "metadata": {},
   "source": [
    "### 2.7  Hyperparameter Tuning: GridSearchCV"
   ]
  },
  {
   "cell_type": "code",
   "execution_count": 19,
   "id": "dca28c4b",
   "metadata": {
    "scrolled": true
   },
   "outputs": [
    {
     "name": "stdout",
     "output_type": "stream",
     "text": [
      "Best Parameters (Decision Tree): {'max_depth': None, 'min_samples_leaf': 1, 'min_samples_split': 10}\n"
     ]
    }
   ],
   "source": [
    "# Setting up the parameter grid for grid search\n",
    "param_grid_dt = {\n",
    "    'max_depth': [None, 5, 10, 15],  # Maximum depth of the tree\n",
    "    'min_samples_split': [2, 5, 10],  # Minimum number of samples required to split an internal node\n",
    "    'min_samples_leaf': [1, 2, 4]  # Minimum number of samples required to be at a leaf node\n",
    "}\n",
    "\n",
    "# Setting up GridSearchCV for Decision Tree model\n",
    "grid_search_dt = GridSearchCV(dt_model, param_grid_dt, cv=5, scoring='roc_auc', n_jobs=-1)\n",
    "\n",
    "# Fitting the model with the training data\n",
    "grid_search_dt.fit(X_train, y_train)\n",
    "\n",
    "# Retrieving the best parameters from the grid search\n",
    "best_params_dt = grid_search_dt.best_params_\n",
    "print(\"Best Parameters (Decision Tree):\", best_params_dt)\n"
   ]
  },
  {
   "cell_type": "markdown",
   "id": "822ecd8e",
   "metadata": {},
   "source": [
    "### 2.8 Model with Best Parameters"
   ]
  },
  {
   "cell_type": "code",
   "execution_count": 20,
   "id": "ed8e42e9",
   "metadata": {},
   "outputs": [
    {
     "name": "stdout",
     "output_type": "stream",
     "text": [
      "Accuracy (DT): 0.85\n"
     ]
    }
   ],
   "source": [
    "# Defining the best hyperparameters for Decision Tree model\n",
    "best_params_dt = {'max_depth': None, 'min_samples_leaf': 1, 'min_samples_split': 10}\n",
    "\n",
    "# Creating the Decision Tree model with the best hyperparameters\n",
    "best_dt_model = DecisionTreeClassifier(**best_params_dt, random_state=42)\n",
    "best_dt_model.fit(X_train_scaled, y_train)\n",
    "y_pred_dt = best_dt_model.predict(X_test_scaled)\n",
    "\n",
    "# Calculating the accuracy of the Decision Tree model \n",
    "accuracy_dt_bp = accuracy_score(y_test, y_pred_dt)\n",
    "print(f\"Accuracy (DT): {accuracy_dt_bp:.2f}\")"
   ]
  },
  {
   "cell_type": "markdown",
   "id": "a91a2e03",
   "metadata": {},
   "source": [
    "## 3. Random Forest Classifier"
   ]
  },
  {
   "cell_type": "markdown",
   "id": "22722d8c",
   "metadata": {},
   "source": [
    "### 3.1 Model training"
   ]
  },
  {
   "cell_type": "code",
   "execution_count": 21,
   "id": "74e4d3fc",
   "metadata": {},
   "outputs": [
    {
     "data": {
      "text/plain": [
       "RandomForestClassifier(random_state=42)"
      ]
     },
     "execution_count": 21,
     "metadata": {},
     "output_type": "execute_result"
    }
   ],
   "source": [
    "# Creating and fitting the Random Forest model\n",
    "rf_model = RandomForestClassifier(random_state=42)\n",
    "rf_model.fit(X_train_scaled, y_train)"
   ]
  },
  {
   "cell_type": "markdown",
   "id": "d0b115f8",
   "metadata": {},
   "source": [
    "### 3.2 Model Prediction and Accuracy"
   ]
  },
  {
   "cell_type": "code",
   "execution_count": 22,
   "id": "9b9387db",
   "metadata": {},
   "outputs": [
    {
     "name": "stdout",
     "output_type": "stream",
     "text": [
      "Training Accuracy: 0.99\n",
      "Testing Accuracy: 0.91\n"
     ]
    }
   ],
   "source": [
    "# Making predictions on the training set\n",
    "y_train_pred_rf = rf_model.predict(X_train_scaled)\n",
    "\n",
    "# Calculating training accuracy\n",
    "train_accuracy = accuracy_score(y_train, y_train_pred_rf)\n",
    "print(f\"Training Accuracy: {train_accuracy:.2f}\")\n",
    "\n",
    "# Making predictions on the test set\n",
    "y_test_pred_rf = rf_model.predict(X_test_scaled)\n",
    "\n",
    "# Calculating testing accuracy\n",
    "test_accuracy_rf = accuracy_score(y_test, y_test_pred_rf)\n",
    "print(f\"Testing Accuracy: {test_accuracy_rf:.2f}\")"
   ]
  },
  {
   "cell_type": "markdown",
   "id": "f48dc3ce",
   "metadata": {},
   "source": [
    "### 3.3 Confusion Matrix"
   ]
  },
  {
   "cell_type": "code",
   "execution_count": 23,
   "id": "c99e8ed7",
   "metadata": {},
   "outputs": [
    {
     "data": {
      "image/png": "[encoded data removed]",
      "text/plain": [
       "<Figure size 576x432 with 2 Axes>"
      ]
     },
     "metadata": {
      "needs_background": "light"
     },
     "output_type": "display_data"
    }
   ],
   "source": [
    "# Calculating the confusion matrix \n",
    "conf_matrix_rf = confusion_matrix(y_test, y_test_pred_rf)\n",
    "plt.figure(figsize=(8, 6))\n",
    "\n",
    "# Visualizing the confusion matrix with heatmap \n",
    "sns.heatmap(conf_matrix_rf, annot=True, fmt=\"d\", cmap=\"Blues\", annot_kws={\"size\": 16})\n",
    "\n",
    "# Adding title and labels\n",
    "plt.title(\"Confusion Matrix\")\n",
    "plt.xlabel(\"Predicted\")\n",
    "plt.ylabel(\"Actual\")\n",
    "\n",
    "# Displaying the heatmap\n",
    "plt.show()"
   ]
  },
  {
   "cell_type": "markdown",
   "id": "11518f66",
   "metadata": {},
   "source": [
    "### 3.4 Classification Report"
   ]
  },
  {
   "cell_type": "code",
   "execution_count": 24,
   "id": "cd6a3d28",
   "metadata": {},
   "outputs": [
    {
     "name": "stdout",
     "output_type": "stream",
     "text": [
      "              precision    recall  f1-score   support\n",
      "\n",
      "           0       0.92      0.99      0.95       183\n",
      "           1       0.85      0.41      0.55        27\n",
      "\n",
      "    accuracy                           0.91       210\n",
      "   macro avg       0.88      0.70      0.75       210\n",
      "weighted avg       0.91      0.91      0.90       210\n",
      "\n"
     ]
    }
   ],
   "source": [
    "# Evaluating the performance of the model\n",
    "class_report_rf = classification_report(y_test, y_test_pred_rf)\n",
    "print(class_report_rf)"
   ]
  },
  {
   "cell_type": "markdown",
   "id": "829c7f92",
   "metadata": {},
   "source": [
    "### 3.5 Roc Cruve (Receiver Operating Characteristic)"
   ]
  },
  {
   "cell_type": "code",
   "execution_count": 25,
   "id": "571ea49d",
   "metadata": {},
   "outputs": [
    {
     "data": {
      "image/png": "[encoded data removed]",
      "text/plain": [
       "<Figure size 576x432 with 1 Axes>"
      ]
     },
     "metadata": {
      "needs_background": "light"
     },
     "output_type": "display_data"
    }
   ],
   "source": [
    "# Calculating the false positive rate (fpr), true positive rate (tpr), and thresholds\n",
    "fpr, tpr, thresholds = roc_curve(y_test, rf_model.predict_proba(X_test_scaled)[:, 1])\n",
    "\n",
    "# Calculating AUC (Area Under the ROC Curve) \n",
    "roc_auc_rf = auc(fpr, tpr)\n",
    "\n",
    "# Plotting the ROC Curve \n",
    "plt.figure(figsize=(8, 6))\n",
    "plt.plot(fpr, tpr, label=f'AUC = {roc_auc_rf:.2f}')\n",
    "plt.plot([0, 1], [0, 1], 'k--')\n",
    "plt.title('ROC Curve')\n",
    "plt.xlabel('False Positive Rate')\n",
    "plt.ylabel('True Positive Rate')\n",
    "plt.legend()\n",
    "plt.show()"
   ]
  },
  {
   "cell_type": "markdown",
   "id": "74fdd4b6",
   "metadata": {},
   "source": [
    "### 3.6 Cross Validation "
   ]
  },
  {
   "cell_type": "code",
   "execution_count": 26,
   "id": "e8b78008",
   "metadata": {},
   "outputs": [
    {
     "name": "stdout",
     "output_type": "stream",
     "text": [
      "Cross-Validation Accuracy (RF): [0.91666667 0.95238095 0.89820359 0.94011976 0.95209581]\n",
      "Mean Cross-Validation Accuracy (RF): 0.93\n"
     ]
    }
   ],
   "source": [
    "# Creating a cross-validation object \n",
    "random_seed = 42\n",
    "kf = KFold(n_splits=5, shuffle=True, random_state=random_seed)\n",
    "\n",
    "# Performing cross-validation for Random Forest model\n",
    "cross_val_accuracy_rf = cross_val_score(rf_model, X_train_scaled, y_train, cv=kf, scoring='accuracy')\n",
    "print(f\"Cross-Validation Accuracy (RF): {cross_val_accuracy_rf}\")\n",
    "\n",
    "# Calculating the mean cross-validation accuracy for Random Forest model\n",
    "print(f\"Mean Cross-Validation Accuracy (RF): {np.mean(cross_val_accuracy_rf):.2f}\")"
   ]
  },
  {
   "cell_type": "markdown",
   "id": "f5e1cfee",
   "metadata": {},
   "source": [
    "### 3.7  Hyperparameter Tuning: GridSearchCV"
   ]
  },
  {
   "cell_type": "code",
   "execution_count": 27,
   "id": "02f25972",
   "metadata": {},
   "outputs": [
    {
     "name": "stdout",
     "output_type": "stream",
     "text": [
      "Best Parameters (Random Forest): {'max_depth': 10, 'min_samples_leaf': 1, 'min_samples_split': 2, 'n_estimators': 200}\n"
     ]
    }
   ],
   "source": [
    "# Setting up the parameter grid for grid search\n",
    "param_grid_rf = {\n",
    "    'n_estimators': [50, 100, 200],  # Number of trees in the forest\n",
    "    'max_depth': [None, 5, 10, 15],  # Maximum depth of the tree\n",
    "    'min_samples_split': [2, 5, 10],  # Minimum number of samples required to split an internal node\n",
    "    'min_samples_leaf': [1, 2, 4]  # Minimum number of samples required to be at a leaf node\n",
    "}\n",
    "# Setting up GridSearchCV for Random Forest model\n",
    "grid_search_rf = GridSearchCV(rf_model, param_grid_rf, cv=5, scoring='roc_auc', n_jobs=-1)\n",
    "\n",
    "# Fitting the model with the training data\n",
    "grid_search_rf.fit(X_train_scaled, y_train)\n",
    "\n",
    "# Retrieving the best parameters from the grid search\n",
    "best_params_rf = grid_search_rf.best_params_\n",
    "print(\"Best Parameters (Random Forest):\", best_params_rf)"
   ]
  },
  {
   "cell_type": "markdown",
   "id": "0799877a",
   "metadata": {},
   "source": [
    "### 3.8 Model with Best Parameters"
   ]
  },
  {
   "cell_type": "code",
   "execution_count": 28,
   "id": "39d67bed",
   "metadata": {},
   "outputs": [
    {
     "name": "stdout",
     "output_type": "stream",
     "text": [
      "Accuracy (RFC): 0.90\n"
     ]
    }
   ],
   "source": [
    "# Defining the best hyperparameters for Random Forest model\n",
    "best_params_rf = {'max_depth': 10, 'min_samples_leaf': 1, 'min_samples_split': 2, 'n_estimators': 200}\n",
    "\n",
    "# Creating the Random Forest model with the best hyperparameters\n",
    "best_rf_model = RandomForestClassifier(**best_params_rf, random_state=42)\n",
    "best_rf_model.fit(X_train_scaled, y_train)\n",
    "y_pred_rf = best_rf_model.predict(X_test_scaled)\n",
    "\n",
    "# Calculating the accuracy of the Random Forest model\n",
    "accuracy_rf_bp = accuracy_score(y_test, y_pred_rf)\n",
    "print(f\"Accuracy (RFC): {accuracy_rf_bp:.2f}\")"
   ]
  },
  {
   "cell_type": "markdown",
   "id": "1c968af3",
   "metadata": {},
   "source": [
    "## 4. Support Vector Machines (SVM)"
   ]
  },
  {
   "cell_type": "markdown",
   "id": "2f8de06f",
   "metadata": {},
   "source": [
    "### 4.1 Model training"
   ]
  },
  {
   "cell_type": "code",
   "execution_count": 29,
   "id": "bac2dc6f",
   "metadata": {},
   "outputs": [
    {
     "data": {
      "text/plain": [
       "SVC(probability=True, random_state=42)"
      ]
     },
     "execution_count": 29,
     "metadata": {},
     "output_type": "execute_result"
    }
   ],
   "source": [
    "# Creating and fitting the Support Vector Machine (SVM) model\n",
    "svm_model = SVC(probability=True, random_state=42)\n",
    "svm_model.fit(X_train_scaled, y_train)"
   ]
  },
  {
   "cell_type": "markdown",
   "id": "45375739",
   "metadata": {},
   "source": [
    "### 4.2 Model Prediction and Accuracy"
   ]
  },
  {
   "cell_type": "code",
   "execution_count": 30,
   "id": "5a9c21d7",
   "metadata": {},
   "outputs": [
    {
     "name": "stdout",
     "output_type": "stream",
     "text": [
      "Training Accuracy (SVM): 0.92\n",
      "Testing Accuracy (SVM): 0.87\n"
     ]
    }
   ],
   "source": [
    "# Making predictions on the training set\n",
    "y_train_pred_svm = svm_model.predict(X_train_scaled)\n",
    "\n",
    "# Calculating training accuracy\n",
    "train_accuracy_svm = accuracy_score(y_train, y_train_pred_svm)\n",
    "print(f\"Training Accuracy (SVM): {train_accuracy_svm:.2f}\")\n",
    "\n",
    "# Making predictions on the test set\n",
    "y_test_pred_svm = svm_model.predict(X_test_scaled)\n",
    "\n",
    "# Calculating testing accuracy\n",
    "test_accuracy_svm = accuracy_score(y_test, y_test_pred_svm)\n",
    "print(f\"Testing Accuracy (SVM): {test_accuracy_svm:.2f}\")"
   ]
  },
  {
   "cell_type": "markdown",
   "id": "13250624",
   "metadata": {},
   "source": [
    "### 4.3 Confusion Matrix"
   ]
  },
  {
   "cell_type": "code",
   "execution_count": 31,
   "id": "749d4020",
   "metadata": {},
   "outputs": [
    {
     "data": {
      "image/png": "[encoded data removed]",
      "text/plain": [
       "<Figure size 576x432 with 2 Axes>"
      ]
     },
     "metadata": {
      "needs_background": "light"
     },
     "output_type": "display_data"
    }
   ],
   "source": [
    "# Calculating the confusion matrix \n",
    "conf_matrix_svm = confusion_matrix(y_test, y_test_pred_svm)\n",
    "plt.figure(figsize=(8, 6))\n",
    "\n",
    "# Visualizing the confusion matrix with heatmap \n",
    "sns.heatmap(conf_matrix_svm, annot=True, fmt=\"d\", cmap=\"Blues\", annot_kws={\"size\": 16})\n",
    "\n",
    "# Adding title and labels\n",
    "plt.title(\"Confusion Matrix (SVM)\")\n",
    "plt.xlabel(\"Predicted\")\n",
    "plt.ylabel(\"Actual\")\n",
    "\n",
    "# Displaying the heatmap\n",
    "plt.show()"
   ]
  },
  {
   "cell_type": "markdown",
   "id": "099e9382",
   "metadata": {},
   "source": [
    "### 4.4 Classification Report"
   ]
  },
  {
   "cell_type": "code",
   "execution_count": 32,
   "id": "81e2ea07",
   "metadata": {},
   "outputs": [
    {
     "name": "stdout",
     "output_type": "stream",
     "text": [
      "Classification Report (SVM):\n",
      "               precision    recall  f1-score   support\n",
      "\n",
      "           0       0.87      1.00      0.93       183\n",
      "           1       0.00      0.00      0.00        27\n",
      "\n",
      "    accuracy                           0.87       210\n",
      "   macro avg       0.44      0.50      0.47       210\n",
      "weighted avg       0.76      0.87      0.81       210\n",
      "\n"
     ]
    }
   ],
   "source": [
    "# Evaluating the performance of the model\n",
    "class_report_svm = classification_report(y_test, y_test_pred_svm)\n",
    "print(\"Classification Report (SVM):\\n\", class_report_svm)"
   ]
  },
  {
   "cell_type": "markdown",
   "id": "9edd5cae",
   "metadata": {},
   "source": [
    "### 4.5 Roc Cruve (Receiver Operating Characteristic)"
   ]
  },
  {
   "cell_type": "code",
   "execution_count": 33,
   "id": "f586654f",
   "metadata": {},
   "outputs": [
    {
     "data": {
      "image/png": "[encoded data removed]",
      "text/plain": [
       "<Figure size 576x432 with 1 Axes>"
      ]
     },
     "metadata": {
      "needs_background": "light"
     },
     "output_type": "display_data"
    }
   ],
   "source": [
    "# Calculating the false positive rate (fpr), true positive rate (tpr), and thresholds\n",
    "fpr_svm, tpr_svm, thresholds_svm = roc_curve(y_test, svm_model.predict_proba(X_test_scaled)[:, 1])\n",
    "\n",
    "# Calculating AUC (Area Under the ROC Curve) \n",
    "roc_auc_svm = auc(fpr_svm, tpr_svm)\n",
    "\n",
    "# Plotting the ROC Curve \n",
    "plt.figure(figsize=(8, 6))\n",
    "plt.plot(fpr_svm, tpr_svm, label=f'AUC = {roc_auc_svm:.2f}')\n",
    "plt.plot([0, 1], [0, 1], 'k--')\n",
    "plt.title('ROC Curve (SVM)')\n",
    "plt.xlabel('False Positive Rate')\n",
    "plt.ylabel('True Positive Rate')\n",
    "plt.legend()\n",
    "plt.show()"
   ]
  },
  {
   "cell_type": "markdown",
   "id": "5de2f7ea",
   "metadata": {},
   "source": [
    "### 4.6 Cross Validation "
   ]
  },
  {
   "cell_type": "code",
   "execution_count": 34,
   "id": "36a24676",
   "metadata": {},
   "outputs": [
    {
     "name": "stdout",
     "output_type": "stream",
     "text": [
      "Cross-Validation Accuracy (SVM): [0.91071429 0.9047619  0.88622754 0.92215569 0.91616766]\n",
      "Mean Cross-Validation Accuracy (SVM): 0.91\n"
     ]
    }
   ],
   "source": [
    "# Creating a cross-validation object \n",
    "kf = KFold(n_splits=5, shuffle=True, random_state=random_seed)\n",
    "\n",
    "# Performing cross-validation for Support Vector Machine (SVM) model\n",
    "cross_val_accuracy_svm = cross_val_score(svm_model, X_train_scaled, y_train, cv=kf, scoring='accuracy')\n",
    "print(f\"Cross-Validation Accuracy (SVM): {cross_val_accuracy_svm}\")\n",
    "\n",
    "# Calculating the mean cross-validation accuracy for Support Vector Machine (SVM) model\n",
    "print(f\"Mean Cross-Validation Accuracy (SVM): {np.mean(cross_val_accuracy_svm):.2f}\")"
   ]
  },
  {
   "cell_type": "markdown",
   "id": "0899de6c",
   "metadata": {},
   "source": [
    "### 4.7  Hyperparameter Tuning: GridSearchCV"
   ]
  },
  {
   "cell_type": "code",
   "execution_count": 35,
   "id": "4fb8ccf5",
   "metadata": {},
   "outputs": [
    {
     "name": "stdout",
     "output_type": "stream",
     "text": [
      "Best Parameters (SVM): {'C': 10, 'gamma': 'auto', 'kernel': 'rbf'}\n"
     ]
    }
   ],
   "source": [
    "# Setting up the parameter grid for grid search\n",
    "param_grid_svm = {\n",
    "    'C': [0.001, 0.01, 0.1, 1, 10],  # Regularization parameter\n",
    "    'kernel': ['linear', 'rbf', 'poly'],  # Kernel type\n",
    "    'gamma': ['scale', 'auto'],  # Kernel coefficient for 'rbf' and 'poly'\n",
    "}\n",
    "\n",
    "# Setting up GridSearchCV for Support Vector Machine (SVM) model\n",
    "grid_search_svm = GridSearchCV(svm_model, param_grid_svm, cv=5, scoring='roc_auc', n_jobs=-1)\n",
    "\n",
    "# Fitting the model with the training data\n",
    "grid_search_svm.fit(X_train_scaled, y_train)\n",
    "\n",
    "# Retrieving the best parameters from the grid search\n",
    "best_params_svm = grid_search_svm.best_params_\n",
    "print(\"Best Parameters (SVM):\", best_params_svm)"
   ]
  },
  {
   "cell_type": "markdown",
   "id": "b10743d9",
   "metadata": {},
   "source": [
    "### 4.8 Model with Best Parameters"
   ]
  },
  {
   "cell_type": "code",
   "execution_count": 36,
   "id": "ef92851b",
   "metadata": {},
   "outputs": [
    {
     "name": "stdout",
     "output_type": "stream",
     "text": [
      "Accuracy (SVM): 0.87\n"
     ]
    }
   ],
   "source": [
    "# Defining the best hyperparameters for Support Vector Machine (SVM) model\n",
    "best_params_svm = {'C': 10, 'gamma': 'auto', 'kernel': 'rbf'}\n",
    "\n",
    "# Creating the Support Vector Machine (SVM) model with the best hyperparameters\n",
    "best_svm_model = SVC(**best_params_svm, probability=True, random_state=42)\n",
    "best_svm_model.fit(X_train_scaled, y_train)\n",
    "y_pred_svm = best_svm_model.predict(X_test_scaled)\n",
    "\n",
    "# Calculating the accuracy of the Support Vector Machine (SVM) model\n",
    "accuracy_svm_bp = accuracy_score(y_test, y_pred_svm)\n",
    "print(f\"Accuracy (SVM): {accuracy_svm_bp:.2f}\")"
   ]
  },
  {
   "cell_type": "markdown",
   "id": "a78e99f0",
   "metadata": {},
   "source": [
    "## 5. K-Nearest Neighbors (KNN)"
   ]
  },
  {
   "cell_type": "markdown",
   "id": "9a5c7804",
   "metadata": {},
   "source": [
    "### 5.1 Model training"
   ]
  },
  {
   "cell_type": "code",
   "execution_count": 37,
   "id": "b5411d78",
   "metadata": {},
   "outputs": [
    {
     "data": {
      "text/plain": [
       "KNeighborsClassifier(n_neighbors=3)"
      ]
     },
     "execution_count": 37,
     "metadata": {},
     "output_type": "execute_result"
    }
   ],
   "source": [
    "# Creating and fitting the KNN model\n",
    "knn_model = KNeighborsClassifier(n_neighbors=3)  \n",
    "knn_model.fit(X_train_scaled, y_train)"
   ]
  },
  {
   "cell_type": "markdown",
   "id": "cddf9274",
   "metadata": {},
   "source": [
    "### 5.2 Model Prediction and Accuracy"
   ]
  },
  {
   "cell_type": "code",
   "execution_count": 38,
   "id": "81f551d1",
   "metadata": {},
   "outputs": [
    {
     "name": "stdout",
     "output_type": "stream",
     "text": [
      "Training Accuracy (KNN): 0.94\n",
      "Testing Accuracy (KNN): 0.88\n"
     ]
    }
   ],
   "source": [
    "# Making predictions on the training set\n",
    "y_train_pred_knn = knn_model.predict(X_train_scaled)\n",
    "\n",
    "# Calculating training accuracy\n",
    "train_accuracy_knn = accuracy_score(y_train, y_train_pred_knn)\n",
    "print(f\"Training Accuracy (KNN): {train_accuracy_knn:.2f}\")\n",
    "\n",
    "# Making predictions on the test set\n",
    "y_test_pred_knn = knn_model.predict(X_test_scaled)\n",
    "\n",
    "# Calculating testing accuracy\n",
    "test_accuracy_knn = accuracy_score(y_test, y_test_pred_knn)\n",
    "print(f\"Testing Accuracy (KNN): {test_accuracy_knn:.2f}\")"
   ]
  },
  {
   "cell_type": "markdown",
   "id": "4f0b9c03",
   "metadata": {},
   "source": [
    "### 5.3 Confusion Matrix"
   ]
  },
  {
   "cell_type": "code",
   "execution_count": 39,
   "id": "a7dce0e1",
   "metadata": {},
   "outputs": [
    {
     "data": {
      "image/png": "[encoded data removed]",
      "text/plain": [
       "<Figure size 576x432 with 2 Axes>"
      ]
     },
     "metadata": {
      "needs_background": "light"
     },
     "output_type": "display_data"
    }
   ],
   "source": [
    "# Calculating the confusion matrix \n",
    "conf_matrix_knn = confusion_matrix(y_test, y_test_pred_knn)\n",
    "plt.figure(figsize=(8, 6))\n",
    "\n",
    "# Visualizing the confusion matrix with heatmap \n",
    "sns.heatmap(conf_matrix_knn, annot=True, fmt=\"d\", cmap=\"Blues\", annot_kws={\"size\": 16})\n",
    "\n",
    "# Adding title and labels\n",
    "plt.title(\"Confusion Matrix (KNN)\")\n",
    "plt.xlabel(\"Predicted\")\n",
    "plt.ylabel(\"Actual\")\n",
    "\n",
    "# Displaying the heatmap\n",
    "plt.show()"
   ]
  },
  {
   "cell_type": "markdown",
   "id": "149482de",
   "metadata": {},
   "source": [
    "### 5.4 Classification Report"
   ]
  },
  {
   "cell_type": "code",
   "execution_count": 40,
   "id": "75c6f221",
   "metadata": {},
   "outputs": [
    {
     "name": "stdout",
     "output_type": "stream",
     "text": [
      "Classification Report (KNN):\n",
      "               precision    recall  f1-score   support\n",
      "\n",
      "           0       0.90      0.97      0.93       183\n",
      "           1       0.57      0.30      0.39        27\n",
      "\n",
      "    accuracy                           0.88       210\n",
      "   macro avg       0.74      0.63      0.66       210\n",
      "weighted avg       0.86      0.88      0.86       210\n",
      "\n"
     ]
    }
   ],
   "source": [
    "# Evaluating the performance of the model\n",
    "class_report_knn = classification_report(y_test, y_test_pred_knn)\n",
    "print(\"Classification Report (KNN):\\n\", class_report_knn)"
   ]
  },
  {
   "cell_type": "markdown",
   "id": "0173907b",
   "metadata": {},
   "source": [
    "### 5.5 Roc Cruve (Receiver Operating Characteristic)"
   ]
  },
  {
   "cell_type": "code",
   "execution_count": 41,
   "id": "5658fa84",
   "metadata": {},
   "outputs": [
    {
     "data": {
      "image/png": "[encoded data removed]",
      "text/plain": [
       "<Figure size 576x432 with 1 Axes>"
      ]
     },
     "metadata": {
      "needs_background": "light"
     },
     "output_type": "display_data"
    }
   ],
   "source": [
    "# Calculate the false positive rate (fpr), true positive rate (tpr), and thresholds\n",
    "fpr_knn, tpr_knn, thresholds_knn = roc_curve(y_test, knn_model.predict_proba(X_test_scaled)[:, 1])\n",
    "\n",
    "# Calculating AUC (Area Under the ROC Curve)  \n",
    "roc_auc_knn = auc(fpr_knn, tpr_knn)\n",
    "\n",
    "# Plotting the ROC Curve\n",
    "plt.figure(figsize=(8, 6))\n",
    "plt.plot(fpr_knn, tpr_knn, label=f'AUC = {roc_auc_knn:.2f}')\n",
    "plt.plot([0, 1], [0, 1], 'k--')\n",
    "plt.title('ROC Curve (KNN)')\n",
    "plt.xlabel('False Positive Rate')\n",
    "plt.ylabel('True Positive Rate')\n",
    "plt.legend()\n",
    "plt.show()"
   ]
  },
  {
   "cell_type": "markdown",
   "id": "11351d57",
   "metadata": {},
   "source": [
    "### 5.6 Cross Validation "
   ]
  },
  {
   "cell_type": "code",
   "execution_count": 42,
   "id": "8b262caf",
   "metadata": {},
   "outputs": [
    {
     "name": "stdout",
     "output_type": "stream",
     "text": [
      "Cross-Validation Accuracy (KNN): [0.89880952 0.89880952 0.85628743 0.91616766 0.90419162]\n",
      "Mean Cross-Validation Accuracy (KNN): 0.89\n"
     ]
    }
   ],
   "source": [
    "# Creating a cross-validation object\n",
    "random_seed = 42\n",
    "kf = KFold(n_splits=5, shuffle=True, random_state=random_seed)\n",
    "\n",
    "# Performing cross-validation for KNN\n",
    "cross_val_accuracy_knn = cross_val_score(knn_model, X_train_scaled, y_train, cv=kf, scoring='accuracy')\n",
    "print(f\"Cross-Validation Accuracy (KNN): {cross_val_accuracy_knn}\")\n",
    "\n",
    "# Calculating the mean cross-validation accuracy for KNN\n",
    "print(f\"Mean Cross-Validation Accuracy (KNN): {np.mean(cross_val_accuracy_knn):.2f}\")"
   ]
  },
  {
   "cell_type": "markdown",
   "id": "97eb6df8",
   "metadata": {},
   "source": [
    "### 5.7  Hyperparameter Tuning: GridSearchCV"
   ]
  },
  {
   "cell_type": "code",
   "execution_count": 43,
   "id": "69e874b0",
   "metadata": {},
   "outputs": [
    {
     "name": "stdout",
     "output_type": "stream",
     "text": [
      "Best Parameters (KNN): {'n_neighbors': 7, 'p': 2, 'weights': 'distance'}\n"
     ]
    }
   ],
   "source": [
    "# Setting up the parameter grid for grid search\n",
    "param_grid_knn = {\n",
    "    'n_neighbors': [3, 5, 7, 9],  # Number of neighbors\n",
    "    'weights': ['uniform', 'distance'],  # Weight function used in prediction\n",
    "    'p': [1, 2]  # Power parameter for the Minkowski metric\n",
    "}\n",
    "\n",
    "# Setting up GridSearchCV for KNN\n",
    "grid_search_knn = GridSearchCV(knn_model, param_grid_knn, cv=5, scoring='roc_auc', n_jobs=-1)\n",
    "\n",
    "# Fitting the model with the training data\n",
    "grid_search_knn.fit(X_train_scaled, y_train)\n",
    "\n",
    "# Retrieving the best parameters from the grid search\n",
    "best_params_knn = grid_search_knn.best_params_\n",
    "print(\"Best Parameters (KNN):\", best_params_knn)"
   ]
  },
  {
   "cell_type": "markdown",
   "id": "9e23795c",
   "metadata": {},
   "source": [
    "### 5.8 Model with Best Parameters"
   ]
  },
  {
   "cell_type": "code",
   "execution_count": 44,
   "id": "3f029e44",
   "metadata": {},
   "outputs": [
    {
     "name": "stdout",
     "output_type": "stream",
     "text": [
      "Accuracy (KNN): 0.90\n"
     ]
    }
   ],
   "source": [
    "# Defining the best hyperparameters for KNN model\n",
    "best_params_knn = {'n_neighbors': 7, 'p': 2, 'weights': 'distance'}\n",
    "\n",
    "# Creating the KNN model with the best hyperparameters\n",
    "best_knn_model = KNeighborsClassifier(**best_params_knn)\n",
    "best_knn_model.fit(X_train_scaled, y_train)\n",
    "y_pred_knn = best_knn_model.predict(X_test_scaled)\n",
    "\n",
    "# Calculating the accuracy of the KNN model\n",
    "accuracy_knn_bp = accuracy_score(y_test, y_pred_knn)\n",
    "print(f\"Accuracy (KNN): {accuracy_knn_bp:.2f}\")"
   ]
  },
  {
   "cell_type": "markdown",
   "id": "ac772f96",
   "metadata": {},
   "source": [
    "## 6. Gradient Boosting (XGBoost)"
   ]
  },
  {
   "cell_type": "markdown",
   "id": "7ee47139",
   "metadata": {},
   "source": [
    "### 6.1 Model training"
   ]
  },
  {
   "cell_type": "code",
   "execution_count": 45,
   "id": "a7d299b4",
   "metadata": {},
   "outputs": [
    {
     "data": {
      "text/plain": [
       "XGBClassifier(base_score=0.5, booster='gbtree', colsample_bylevel=1,\n",
       "              colsample_bynode=1, colsample_bytree=1, enable_categorical=False,\n",
       "              eval_metric='logloss', gamma=0, gpu_id=-1, importance_type=None,\n",
       "              interaction_constraints='', learning_rate=0.300000012,\n",
       "              max_delta_step=0, max_depth=6, min_child_weight=1, missing=nan,\n",
       "              monotone_constraints='()', n_estimators=100, n_jobs=8,\n",
       "              num_parallel_tree=1, predictor='auto', random_state=42,\n",
       "              reg_alpha=0, reg_lambda=1, scale_pos_weight=1, subsample=1,\n",
       "              tree_method='exact', use_label_encoder=False,\n",
       "              validate_parameters=1, verbosity=None)"
      ]
     },
     "execution_count": 45,
     "metadata": {},
     "output_type": "execute_result"
    }
   ],
   "source": [
    "# Creating and fitting the XGBoost model\n",
    "xgb_model = xgb.XGBClassifier(random_state=42, eval_metric='logloss',use_label_encoder=False) # Since 'binary:logistic' was changed from 'error' to 'logloss' \n",
    "xgb_model.fit(X_train_scaled, y_train)"
   ]
  },
  {
   "cell_type": "markdown",
   "id": "1535bcab",
   "metadata": {},
   "source": [
    "### 6.2 Model Prediction and Accuracy"
   ]
  },
  {
   "cell_type": "code",
   "execution_count": 46,
   "id": "ce0f0074",
   "metadata": {},
   "outputs": [
    {
     "name": "stdout",
     "output_type": "stream",
     "text": [
      "Training Accuracy (XGBoost): 0.99\n",
      "Testing Accuracy (XGBoost): 0.91\n"
     ]
    }
   ],
   "source": [
    "# Making predictions on the training set\n",
    "y_train_pred_xgb = xgb_model.predict(X_train_scaled)\n",
    "\n",
    "# Calculating training accuracy\n",
    "train_accuracy_xgb = accuracy_score(y_train, y_train_pred_xgb)\n",
    "print(f\"Training Accuracy (XGBoost): {train_accuracy_xgb:.2f}\")\n",
    "\n",
    "# Making predictions on the test set\n",
    "y_test_pred_xgb = xgb_model.predict(X_test_scaled)\n",
    "\n",
    "# Calculating testing accuracy\n",
    "test_accuracy_xgb = accuracy_score(y_test, y_test_pred_xgb)\n",
    "print(f\"Testing Accuracy (XGBoost): {test_accuracy_xgb:.2f}\")"
   ]
  },
  {
   "cell_type": "markdown",
   "id": "2ced98f2",
   "metadata": {},
   "source": [
    "### 6.3 Confusion Matrix"
   ]
  },
  {
   "cell_type": "code",
   "execution_count": 47,
   "id": "dff172c7",
   "metadata": {},
   "outputs": [
    {
     "data": {
      "image/png": "[encoded data removed]",
      "text/plain": [
       "<Figure size 576x432 with 2 Axes>"
      ]
     },
     "metadata": {
      "needs_background": "light"
     },
     "output_type": "display_data"
    }
   ],
   "source": [
    "# Calculating the confusion matrix \n",
    "conf_matrix_xgb = confusion_matrix(y_test, y_test_pred_xgb)\n",
    "plt.figure(figsize=(8, 6))\n",
    "\n",
    "# Visualizing the confusion matrix with heatmap \n",
    "sns.heatmap(conf_matrix_xgb, annot=True, fmt=\"d\", cmap=\"Blues\", annot_kws={\"size\": 16})\n",
    "\n",
    "# Adding title and labels\n",
    "plt.title(\"Confusion Matrix (XGBoost)\")\n",
    "plt.xlabel(\"Predicted\")\n",
    "plt.ylabel(\"Actual\")\n",
    "\n",
    "# Displaying the heatmap\n",
    "plt.show()"
   ]
  },
  {
   "cell_type": "markdown",
   "id": "7f58b559",
   "metadata": {},
   "source": [
    "### 6.4 Classification Report"
   ]
  },
  {
   "cell_type": "code",
   "execution_count": 48,
   "id": "46804b66",
   "metadata": {},
   "outputs": [
    {
     "name": "stdout",
     "output_type": "stream",
     "text": [
      "Classification Report (XGBoost):\n",
      "               precision    recall  f1-score   support\n",
      "\n",
      "           0       0.92      0.98      0.95       183\n",
      "           1       0.75      0.44      0.56        27\n",
      "\n",
      "    accuracy                           0.91       210\n",
      "   macro avg       0.84      0.71      0.75       210\n",
      "weighted avg       0.90      0.91      0.90       210\n",
      "\n"
     ]
    }
   ],
   "source": [
    "# Evaluating the performance of the model\n",
    "class_report_xgb = classification_report(y_test, y_test_pred_xgb)\n",
    "print(\"Classification Report (XGBoost):\\n\", class_report_xgb)"
   ]
  },
  {
   "cell_type": "markdown",
   "id": "773e2abb",
   "metadata": {},
   "source": [
    "### 6.5 Roc Cruve (Receiver Operating Characteristic)"
   ]
  },
  {
   "cell_type": "code",
   "execution_count": 49,
   "id": "42cd0492",
   "metadata": {},
   "outputs": [
    {
     "data": {
      "image/png": "[encoded data removed]",
      "text/plain": [
       "<Figure size 576x432 with 1 Axes>"
      ]
     },
     "metadata": {
      "needs_background": "light"
     },
     "output_type": "display_data"
    }
   ],
   "source": [
    "# Calculate the false positive rate (fpr), true positive rate (tpr), and thresholds\n",
    "fpr_xgb, tpr_xgb, thresholds_xgb = roc_curve(y_test, xgb_model.predict_proba(X_test_scaled)[:, 1])\n",
    "\n",
    "# Calculating AUC (Area Under the ROC Curve) \n",
    "roc_auc_xgb = auc(fpr_xgb, tpr_xgb)\n",
    "\n",
    "# Plotting the ROC Curve \n",
    "plt.figure(figsize=(8, 6))\n",
    "plt.plot(fpr_xgb, tpr_xgb, label=f'AUC = {roc_auc_xgb:.2f}')\n",
    "plt.plot([0, 1], [0, 1], 'k--')\n",
    "plt.title('ROC Curve (XGBoost)')\n",
    "plt.xlabel('False Positive Rate')\n",
    "plt.ylabel('True Positive Rate')\n",
    "plt.legend()\n",
    "plt.show()"
   ]
  },
  {
   "cell_type": "markdown",
   "id": "051efb2d",
   "metadata": {},
   "source": [
    "### 6.6 Cross Validation "
   ]
  },
  {
   "cell_type": "code",
   "execution_count": 50,
   "id": "35047cf6",
   "metadata": {},
   "outputs": [
    {
     "name": "stdout",
     "output_type": "stream",
     "text": [
      "Cross-Validation Accuracy (XGBoost): [0.91666667 0.94047619 0.89221557 0.92814371 0.94011976]\n",
      "Mean Cross-Validation Accuracy (XGBoost): 0.92\n"
     ]
    }
   ],
   "source": [
    "# Creating a cross-validation object \n",
    "random_seed = 42\n",
    "kf = KFold(n_splits=5, shuffle=True, random_state=random_seed)\n",
    "\n",
    "# Performing cross-validation for XGBoost model\n",
    "cross_val_accuracy_xgboost = cross_val_score(xgb_model, X_train_scaled, y_train, cv=kf, scoring='accuracy')\n",
    "print(f\"Cross-Validation Accuracy (XGBoost): {cross_val_accuracy_xgboost}\")\n",
    "\n",
    "# Calculating the mean cross-validation accuracy for XGBoost model\n",
    "print(f\"Mean Cross-Validation Accuracy (XGBoost): {np.mean(cross_val_accuracy_xgboost):.2f}\")"
   ]
  },
  {
   "cell_type": "markdown",
   "id": "ed0b2a08",
   "metadata": {},
   "source": [
    "### 6.7  Hyperparameter Tuning: GridSearchCV"
   ]
  },
  {
   "cell_type": "code",
   "execution_count": 51,
   "id": "59f67063",
   "metadata": {},
   "outputs": [
    {
     "name": "stdout",
     "output_type": "stream",
     "text": [
      "Best Parameters (XGBoost): {'learning_rate': 0.2, 'max_depth': 7, 'n_estimators': 100, 'subsample': 1.0}\n"
     ]
    }
   ],
   "source": [
    "# Setting up the parameter grid for grid search\n",
    "param_grid_xgboost = {\n",
    "    'learning_rate': [0.01, 0.1, 0.2],  # Step size shrinkage used to prevent overfitting\n",
    "    'n_estimators': [50, 100, 200],  # Number of boosting rounds\n",
    "    'max_depth': [3, 5, 7],  # Maximum depth of a tree\n",
    "    'subsample': [0.8, 1.0],  # Fraction of samples used for fitting the individual trees\n",
    "}\n",
    "\n",
    "# Setting up GridSearchCV for XGBoost model\n",
    "grid_search_xgboost = GridSearchCV(xgb_model, param_grid_xgboost, cv=5, scoring='roc_auc', n_jobs=-1)\n",
    "\n",
    "# Fitting the model with the training data\n",
    "grid_search_xgboost.fit(X_train_scaled, y_train)\n",
    "\n",
    "# Retrieving the best parameters from the grid search\n",
    "best_params_xgboost = grid_search_xgboost.best_params_\n",
    "print(\"Best Parameters (XGBoost):\", best_params_xgboost)"
   ]
  },
  {
   "cell_type": "markdown",
   "id": "d529a1b4",
   "metadata": {},
   "source": [
    "### 6.8 Model with Best Parameters"
   ]
  },
  {
   "cell_type": "code",
   "execution_count": 52,
   "id": "0744e9f3",
   "metadata": {},
   "outputs": [
    {
     "name": "stdout",
     "output_type": "stream",
     "text": [
      "Accuracy (XGBoost): 0.88\n"
     ]
    }
   ],
   "source": [
    "# Defining the best hyperparameters for XGBoost\n",
    "best_params_xgboost = {'learning_rate': 0.1, 'max_depth': 7, 'n_estimators': 50, 'subsample': 0.8}\n",
    "\n",
    "# Creating the XGBoost model with the best hyperparameters\n",
    "best_xgboost_model = xgb.XGBClassifier(**best_params_xgboost, random_state=42, eval_metric='logloss',use_label_encoder=False)\n",
    "best_xgboost_model.fit(X_train_scaled, y_train)\n",
    "y_pred_xgboost = best_xgboost_model.predict(X_test_scaled)\n",
    "\n",
    "# Calculating the accuracy of the XGBoost\n",
    "accuracy_xgboost_pb = accuracy_score(y_test, y_pred_xgboost)\n",
    "print(f\"Accuracy (XGBoost): {accuracy_xgboost_pb:.2f}\")"
   ]
  },
  {
   "cell_type": "markdown",
   "id": "4dee8aac",
   "metadata": {},
   "source": [
    "# 3. Model Selection"
   ]
  },
  {
   "cell_type": "code",
   "execution_count": 53,
   "id": "7cee9466",
   "metadata": {
    "scrolled": true
   },
   "outputs": [
    {
     "data": {
      "text/html": [
       "<div>\n",
       "<style scoped>\n",
       "    .dataframe tbody tr th:only-of-type {\n",
       "        vertical-align: middle;\n",
       "    }\n",
       "\n",
       "    .dataframe tbody tr th {\n",
       "        vertical-align: top;\n",
       "    }\n",
       "\n",
       "    .dataframe thead th {\n",
       "        text-align: right;\n",
       "    }\n",
       "</style>\n",
       "<table border=\"1\" class=\"dataframe\">\n",
       "  <thead>\n",
       "    <tr style=\"text-align: right;\">\n",
       "      <th></th>\n",
       "      <th>Testing Accuracy before Hypertuning</th>\n",
       "      <th>Testing Accuracy after Hypertuning</th>\n",
       "      <th>Mean Cross-Validation Accuracy</th>\n",
       "      <th>AUC</th>\n",
       "    </tr>\n",
       "  </thead>\n",
       "  <tbody>\n",
       "    <tr>\n",
       "      <th>Logistic Regression</th>\n",
       "      <td>0.87</td>\n",
       "      <td>0.87</td>\n",
       "      <td>0.91</td>\n",
       "      <td>0.61</td>\n",
       "    </tr>\n",
       "    <tr>\n",
       "      <th>Decision Tree</th>\n",
       "      <td>0.84</td>\n",
       "      <td>0.85</td>\n",
       "      <td>0.88</td>\n",
       "      <td>0.71</td>\n",
       "    </tr>\n",
       "    <tr>\n",
       "      <th>Random Forest</th>\n",
       "      <td>0.91</td>\n",
       "      <td>0.90</td>\n",
       "      <td>0.93</td>\n",
       "      <td>0.74</td>\n",
       "    </tr>\n",
       "    <tr>\n",
       "      <th>Support Vector Machine</th>\n",
       "      <td>0.87</td>\n",
       "      <td>0.87</td>\n",
       "      <td>0.91</td>\n",
       "      <td>0.71</td>\n",
       "    </tr>\n",
       "    <tr>\n",
       "      <th>K-Nearest Neighbour</th>\n",
       "      <td>0.88</td>\n",
       "      <td>0.90</td>\n",
       "      <td>0.89</td>\n",
       "      <td>0.70</td>\n",
       "    </tr>\n",
       "    <tr>\n",
       "      <th>Gradient Boosting</th>\n",
       "      <td>0.91</td>\n",
       "      <td>0.88</td>\n",
       "      <td>0.92</td>\n",
       "      <td>0.74</td>\n",
       "    </tr>\n",
       "  </tbody>\n",
       "</table>\n",
       "</div>"
      ],
      "text/plain": [
       "                       Testing Accuracy before Hypertuning  \\\n",
       "Logistic Regression                                   0.87   \n",
       "Decision Tree                                         0.84   \n",
       "Random Forest                                         0.91   \n",
       "Support Vector Machine                                0.87   \n",
       "K-Nearest Neighbour                                   0.88   \n",
       "Gradient Boosting                                     0.91   \n",
       "\n",
       "                       Testing Accuracy after Hypertuning  \\\n",
       "Logistic Regression                                  0.87   \n",
       "Decision Tree                                        0.85   \n",
       "Random Forest                                        0.90   \n",
       "Support Vector Machine                               0.87   \n",
       "K-Nearest Neighbour                                  0.90   \n",
       "Gradient Boosting                                    0.88   \n",
       "\n",
       "                       Mean Cross-Validation Accuracy   AUC  \n",
       "Logistic Regression                              0.91  0.61  \n",
       "Decision Tree                                    0.88  0.71  \n",
       "Random Forest                                    0.93  0.74  \n",
       "Support Vector Machine                           0.91  0.71  \n",
       "K-Nearest Neighbour                              0.89  0.70  \n",
       "Gradient Boosting                                0.92  0.74  "
      ]
     },
     "execution_count": 53,
     "metadata": {},
     "output_type": "execute_result"
    }
   ],
   "source": [
    "variables = {\n",
    "    'Logistic Regression': [test_accuracy, accuracy_lr, cross_val_accuracy_lr, roc_auc_lr],\n",
    "    'Decision Tree': [accuracy_dt, accuracy_dt_bp, cross_val_accuracy_dt, roc_auc_dt],\n",
    "    'Random Forest': [test_accuracy_rf, accuracy_rf_bp, cross_val_accuracy_rf, roc_auc_rf],\n",
    "    'Support Vector Machine': [test_accuracy_svm, accuracy_svm_bp, cross_val_accuracy_svm, roc_auc_svm],\n",
    "    'K-Nearest Neighbour': [test_accuracy_knn, accuracy_knn_bp, cross_val_accuracy_knn, roc_auc_knn],\n",
    "    'Gradient Boosting': [test_accuracy_xgb, accuracy_xgboost_pb, cross_val_accuracy_xgboost, roc_auc_xgb]\n",
    "}\n",
    "\n",
    "# Calculate mean for the \"Mean Cross-Validation Accuracy\" column\n",
    "for model, vars_list in variables.items():\n",
    "    vars_list[2] = sum(vars_list[2]) / len(vars_list[2])\n",
    "\n",
    "# Convert the dictionary to a DataFrame\n",
    "model_selection_df = pd.DataFrame.from_dict(variables, orient='index', columns=['Testing Accuracy before Hypertuning', 'Testing Accuracy after Hypertuning', 'Mean Cross-Validation Accuracy', 'AUC'])\n",
    "\n",
    "# Format all values to two decimal places\n",
    "model_selection_df = model_selection_df.applymap(lambda x: f'{x:.2f}' if isinstance(x, (float, int)) else x)\n",
    "\n",
    "# Display the results\n",
    "model_selection_df\n"
   ]
  },
  {
   "cell_type": "markdown",
   "id": "6d74707e",
   "metadata": {},
   "source": [
    "#### Testing Accuracy:\n",
    "\n",
    "- **Random Forest:** It has the highest testing accuracy after hypertuning (0.90). This suggests that, on the test set, it performs well in correctly predicting credit card approval.\n",
    "\n",
    "#### Mean Cross-Validation Accuracy:\n",
    "\n",
    "- **Random Forest:** It again shows the highest mean cross-validation accuracy (0.93). This indicates consistent and robust performance across different subsets of the training data.\n",
    "\n",
    "#### AUC (Area Under the ROC Curve):\n",
    "\n",
    "- **Random Forest and Gradient Boosting:** Both have the highest AUC values (0.74), indicating good discrimination ability between positive and negative classes.\n",
    "\n",
    "### Model Selected - Random Forest"
   ]
  },
  {
   "cell_type": "markdown",
   "id": "66889ec6",
   "metadata": {},
   "source": [
    "# 4. Feature Importance on Random Forest Model \n",
    "Using Entropy"
   ]
  },
  {
   "cell_type": "code",
   "execution_count": 54,
   "id": "41f48802",
   "metadata": {},
   "outputs": [
    {
     "data": {
      "image/png": "[encoded data removed]",
      "text/plain": [
       "<Figure size 720x432 with 1 Axes>"
      ]
     },
     "metadata": {
      "needs_background": "light"
     },
     "output_type": "display_data"
    }
   ],
   "source": [
    "# Extracting feature importances\n",
    "feature_importances_entropy = best_rf_model.feature_importances_\n",
    "\n",
    "# Getting the names of features\n",
    "feature_names_entropy = X_train.columns\n",
    "\n",
    "# Sorting feature importances in descending order\n",
    "indices_entropy = feature_importances_entropy.argsort()[::-1]\n",
    "\n",
    "# Plotting the feature importances\n",
    "plt.figure(figsize=(10, 6))\n",
    "plt.bar(range(X_train.shape[1]), feature_importances_entropy[indices_entropy], align=\"center\")\n",
    "plt.xticks(range(X_train.shape[1]), feature_names_entropy[indices_entropy], rotation=45)\n",
    "plt.xlabel(\"Feature\")\n",
    "plt.ylabel(\"Feature Importance (Entropy)\")\n",
    "plt.title(\"Random Forest - Feature Importances (Entropy)\")\n",
    "plt.show()"
   ]
  }
 ],
 "metadata": {
  "kernelspec": {
   "display_name": "Python 3",
   "language": "python",
   "name": "python3"
  },
  "language_info": {
   "codemirror_mode": {
    "name": "ipython",
    "version": 3
   },
   "file_extension": ".py",
   "mimetype": "text/x-python",
   "name": "python",
   "nbconvert_exporter": "python",
   "pygments_lexer": "ipython3",
   "version": "3.8.8"
  }
 },
 "nbformat": 4,
 "nbformat_minor": 5
}
